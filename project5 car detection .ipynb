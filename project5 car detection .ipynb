{
 "cells": [
  {
   "cell_type": "code",
   "execution_count": null,
   "id": "6b23162d",
   "metadata": {},
   "outputs": [],
   "source": [
    "import cv2\n",
    "import time\n",
    "import numpy as np"
   ]
  },
  {
   "cell_type": "code",
   "execution_count": null,
   "id": "d88b1016",
   "metadata": {},
   "outputs": [],
   "source": [
    "car_classifier = cv2.CascadeClassifier(r\"C:\\Users\\videos\\haarcascade_car.xml\")"
   ]
  },
  {
   "cell_type": "code",
   "execution_count": null,
   "id": "efa75f50",
   "metadata": {},
   "outputs": [],
   "source": [
    "cap = cv2.VideoCapture(r'C:\\Users\\videos\\Traffic - 20581.mp4')"
   ]
  },
  {
   "cell_type": "code",
   "execution_count": null,
   "id": "b3f90ab1",
   "metadata": {},
   "outputs": [],
   "source": [
    "while cap.isOpened():\n",
    "    "
   ]
  },
  {
   "cell_type": "code",
   "execution_count": null,
   "id": "5b432f93",
   "metadata": {},
   "outputs": [],
   "source": [
    "ret, frame = cap.read()\n",
    "gray = cv2.cvtColor(frame, cv2.COLOR_BGR2GRAY)"
   ]
  },
  {
   "cell_type": "code",
   "execution_count": null,
   "id": "02dd0a91",
   "metadata": {},
   "outputs": [],
   "source": [
    "cars = car_classifier.detectMultiScale(gray, 1.4, 25)"
   ]
  },
  {
   "cell_type": "code",
   "execution_count": null,
   "id": "16043dc2",
   "metadata": {},
   "outputs": [],
   "source": [
    "for (x, y, w, h) in cars:\n",
    "    cv2.rectangle(frame, (x,y), (x+w, y+h), (0,255,255), 2)\n",
    "    "
   ]
  },
  {
   "cell_type": "code",
   "execution_count": null,
   "id": "e9d4dcf9",
   "metadata": {},
   "outputs": [],
   "source": [
    "cv2.imshow('Cars', frame)"
   ]
  },
  {
   "cell_type": "code",
   "execution_count": null,
   "id": "be896003",
   "metadata": {},
   "outputs": [],
   "source": [
    "if cv2.waitKey(1) == 13:\n",
    "    break"
   ]
  },
  {
   "cell_type": "code",
   "execution_count": null,
   "id": "cd4c1bb9",
   "metadata": {},
   "outputs": [],
   "source": [
    "cap.release()\n",
    "cv2.destroyAllWindows()"
   ]
  },
  {
   "cell_type": "code",
   "execution_count": null,
   "id": "2fef5ef3",
   "metadata": {},
   "outputs": [],
   "source": []
  }
 ],
 "metadata": {
  "kernelspec": {
   "display_name": "Python 3",
   "language": "python",
   "name": "python3"
  },
  "language_info": {
   "codemirror_mode": {
    "name": "ipython",
    "version": 3
   },
   "file_extension": ".py",
   "mimetype": "text/x-python",
   "name": "python",
   "nbconvert_exporter": "python",
   "pygments_lexer": "ipython3",
   "version": "3.7.11"
  }
 },
 "nbformat": 4,
 "nbformat_minor": 5
}
