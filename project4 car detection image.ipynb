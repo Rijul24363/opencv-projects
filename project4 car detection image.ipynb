{
 "cells": [
  {
   "cell_type": "code",
   "execution_count": 25,
   "id": "60124dbf",
   "metadata": {},
   "outputs": [],
   "source": [
    "import cv2"
   ]
  },
  {
   "cell_type": "code",
   "execution_count": 26,
   "id": "17338e65",
   "metadata": {},
   "outputs": [],
   "source": [
    "car_cascade = cv2.CascadeClassifier(r'C:\\Users\\photos\\haarcascade_car.xml')"
   ]
  },
  {
   "cell_type": "code",
   "execution_count": 27,
   "id": "084da3d1",
   "metadata": {},
   "outputs": [],
   "source": [
    "img = cv2.imread(r'C:\\Users\\photos\\automotive-1846910_1920.jpg')\n",
    "img = cv2.resize(img, (1280, 720))"
   ]
  },
  {
   "cell_type": "code",
   "execution_count": 28,
   "id": "6a975697",
   "metadata": {},
   "outputs": [],
   "source": [
    "gray_img = cv2.cvtColor(img, cv2.COLOR_BGR2GRAY)"
   ]
  },
  {
   "cell_type": "code",
   "execution_count": 44,
   "id": "e96d7328",
   "metadata": {},
   "outputs": [],
   "source": [
    "cars = car_cascade.detectMultiScale(gray_img, 1.1, 5)"
   ]
  },
  {
   "cell_type": "code",
   "execution_count": 45,
   "id": "43259e60",
   "metadata": {},
   "outputs": [],
   "source": [
    "for (x, y, w, h) in cars:\n",
    "    cv2.rectangle(img, (x,y), (x+w, y+h), (0,255,0), 4)"
   ]
  },
  {
   "cell_type": "code",
   "execution_count": 46,
   "id": "5d7476f0",
   "metadata": {},
   "outputs": [],
   "source": [
    "cv2.imshow('Image', img)\n",
    "cv2.waitKey()\n",
    "cv2.destroyAllWindows()"
   ]
  },
  {
   "cell_type": "code",
   "execution_count": null,
   "id": "374abd2c",
   "metadata": {},
   "outputs": [],
   "source": []
  }
 ],
 "metadata": {
  "kernelspec": {
   "display_name": "Python 3",
   "language": "python",
   "name": "python3"
  },
  "language_info": {
   "codemirror_mode": {
    "name": "ipython",
    "version": 3
   },
   "file_extension": ".py",
   "mimetype": "text/x-python",
   "name": "python",
   "nbconvert_exporter": "python",
   "pygments_lexer": "ipython3",
   "version": "3.7.11"
  }
 },
 "nbformat": 4,
 "nbformat_minor": 5
}
