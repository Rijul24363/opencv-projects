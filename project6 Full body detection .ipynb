{
 "cells": [
  {
   "cell_type": "code",
   "execution_count": 1,
   "id": "2d790f07",
   "metadata": {},
   "outputs": [],
   "source": [
    "import cv2"
   ]
  },
  {
   "cell_type": "code",
   "execution_count": 2,
   "id": "06e8b228",
   "metadata": {},
   "outputs": [],
   "source": [
    "body_cascade = cv2.CascadeClassifier(r'C:\\Users\\photos\\haarcascade_fullbody.xml')"
   ]
  },
  {
   "cell_type": "code",
   "execution_count": 3,
   "id": "b4cf1c75",
   "metadata": {},
   "outputs": [],
   "source": [
    "img = cv2.imread(r'C:\\Users\\photos\\little-girl-2516582_1280.jpg')\n",
    "img = cv2.resize(img, (1280, 720))"
   ]
  },
  {
   "cell_type": "code",
   "execution_count": 4,
   "id": "f1da8db8",
   "metadata": {
    "scrolled": true
   },
   "outputs": [],
   "source": [
    "gray_img = cv2.cvtColor(img, cv2.COLOR_BGR2GRAY)"
   ]
  },
  {
   "cell_type": "code",
   "execution_count": 8,
   "id": "324a93fc",
   "metadata": {},
   "outputs": [],
   "source": [
    "faces = body_cascade.detectMultiScale(gray_img, 1.2, 2)"
   ]
  },
  {
   "cell_type": "code",
   "execution_count": 9,
   "id": "111c67dd",
   "metadata": {},
   "outputs": [],
   "source": [
    "for (x, y, w, h) in faces:\n",
    "    cv2.rectangle(img, (x,y), (x+w, y+h), (0,255,0), 4)"
   ]
  },
  {
   "cell_type": "code",
   "execution_count": 10,
   "id": "52828bae",
   "metadata": {},
   "outputs": [],
   "source": [
    "cv2.imshow('Image', img)\n",
    "cv2.waitKey()\n",
    "cv2.destroyAllWindows()"
   ]
  },
  {
   "cell_type": "code",
   "execution_count": null,
   "id": "f3d48a02",
   "metadata": {},
   "outputs": [],
   "source": []
  },
  {
   "cell_type": "code",
   "execution_count": null,
   "id": "d129c2e9",
   "metadata": {},
   "outputs": [],
   "source": []
  }
 ],
 "metadata": {
  "kernelspec": {
   "display_name": "Python 3",
   "language": "python",
   "name": "python3"
  },
  "language_info": {
   "codemirror_mode": {
    "name": "ipython",
    "version": 3
   },
   "file_extension": ".py",
   "mimetype": "text/x-python",
   "name": "python",
   "nbconvert_exporter": "python",
   "pygments_lexer": "ipython3",
   "version": "3.7.11"
  }
 },
 "nbformat": 4,
 "nbformat_minor": 5
}
